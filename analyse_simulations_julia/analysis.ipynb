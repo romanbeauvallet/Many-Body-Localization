{
 "cells": [
  {
   "cell_type": "markdown",
   "id": "cad6ea30",
   "metadata": {},
   "source": [
    "librairies"
   ]
  },
  {
   "cell_type": "code",
   "execution_count": null,
   "id": "51f78e44",
   "metadata": {},
   "outputs": [],
   "source": [
    "import numpy as np \n",
    "import matplotlib.pyplot as plt"
   ]
  },
  {
   "cell_type": "markdown",
   "id": "03d95525",
   "metadata": {},
   "source": [
    "data"
   ]
  },
  {
   "cell_type": "code",
   "execution_count": null,
   "id": "07d85891",
   "metadata": {},
   "outputs": [],
   "source": []
  }
 ],
 "metadata": {
  "language_info": {
   "name": "python"
  }
 },
 "nbformat": 4,
 "nbformat_minor": 5
}
