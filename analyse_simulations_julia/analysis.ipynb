{
 "cells": [
  {
   "cell_type": "markdown",
   "id": "cad6ea30",
   "metadata": {},
   "source": [
    "librairies"
   ]
  },
  {
   "cell_type": "code",
   "execution_count": 3,
   "id": "51f78e44",
   "metadata": {},
   "outputs": [],
   "source": [
    "import numpy as np \n",
    "import matplotlib.pyplot as plt\n",
    "import json as js"
   ]
  },
  {
   "cell_type": "markdown",
   "id": "03d95525",
   "metadata": {},
   "source": [
    "data"
   ]
  },
  {
   "cell_type": "code",
   "execution_count": null,
   "id": "07d85891",
   "metadata": {},
   "outputs": [],
   "source": [
    "with open(\"data.json\", \"r\") as file:\n",
    "    dic = js.load(file)\n",
    "\n",
    "print(dic)"
   ]
  }
 ],
 "metadata": {
  "language_info": {
   "name": "python"
  }
 },
 "nbformat": 4,
 "nbformat_minor": 5
}
